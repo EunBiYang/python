{
 "cells": [
  {
   "cell_type": "markdown",
   "metadata": {},
   "source": [
    "# Unit. 조건문 elif"
   ]
  },
  {
   "cell_type": "code",
   "execution_count": 2,
   "metadata": {},
   "outputs": [],
   "source": [
    "import random"
   ]
  },
  {
   "cell_type": "code",
   "execution_count": 3,
   "metadata": {},
   "outputs": [
    {
     "name": "stdout",
     "output_type": "stream",
     "text": [
      "74 C\n"
     ]
    }
   ],
   "source": [
    "# 90점 이상 A, 80점 이상 B, 70점 이상 C, 60점 이상이면 D, 나머진 F\n",
    "secore = random.randint(40,100)\n",
    "if secore >= 90:\n",
    "    grade = 'A'\n",
    "elif secore >= 80:\n",
    "    grade ='B'\n",
    "elif secore >= 70:\n",
    "    grade = 'C'\n",
    "elif secore >= 60:\n",
    "    grade = 'D'\n",
    "else:\n",
    "    grade = 'F'\n",
    "print(secore, grade)"
   ]
  },
  {
   "cell_type": "code",
   "execution_count": 5,
   "metadata": {},
   "outputs": [
    {
     "name": "stdout",
     "output_type": "stream",
     "text": [
      "50 F\n"
     ]
    }
   ],
   "source": [
    "score = random.randint(40,100)\n",
    "grade = 'A' if score >= 90 else \\\n",
    "    'B' if score >= 80 else \\\n",
    "        'C' if score >=70 else \\\n",
    "            'D' if score >=60 else 'F'\n",
    "print(score, grade)"
   ]
  },
  {
   "cell_type": "markdown",
   "metadata": {},
   "source": [
    "### 연습문제\n",
    "<pre>\n",
    "생일을 입력으로 받아 오늘 현재의 만 나이를 계산세요.\n",
    "</pre>"
   ]
  },
  {
   "cell_type": "code",
   "execution_count": 9,
   "metadata": {},
   "outputs": [
    {
     "data": {
      "text/plain": [
       "(2022, 3, 25)"
      ]
     },
     "execution_count": 9,
     "metadata": {},
     "output_type": "execute_result"
    }
   ],
   "source": [
    "import datetime as dt \n",
    "today = dt.date.today()\n",
    "today.year, today.month, today.day"
   ]
  },
  {
   "cell_type": "code",
   "execution_count": 18,
   "metadata": {},
   "outputs": [],
   "source": [
    "birth_year, birth_month, birth_day = map(int,input('생년월일').split())"
   ]
  },
  {
   "cell_type": "code",
   "execution_count": 21,
   "metadata": {},
   "outputs": [
    {
     "name": "stdout",
     "output_type": "stream",
     "text": [
      "1993 1 13 29\n"
     ]
    }
   ],
   "source": [
    "if today.month < birth_month:           #생월이 아직 안지났으면\n",
    "    age = today.year - birth_year -1\n",
    "elif today.month > birth_month:         #생월이 지났으면\n",
    "    age = today.year - birth_year \n",
    "else:                                   #생월이 같으면\n",
    "    if today.day < birth_day:          #생일이 아직 안지났으면\n",
    "        age = today.year - birth_year -1\n",
    "    else :                              #생일이 같거나 지났으면\n",
    "        age = today.year - birth_year \n",
    "print(birth_year, birth_month, birth_day, age)\n"
   ]
  },
  {
   "cell_type": "code",
   "execution_count": null,
   "metadata": {},
   "outputs": [],
   "source": []
  }
 ],
 "metadata": {
  "interpreter": {
   "hash": "bbaff3bad43e72ef86a08724e2a04c1dc7b916dad0faa2935f126c230f07c1b0"
  },
  "kernelspec": {
   "display_name": "Python 3.9.7 ('base')",
   "language": "python",
   "name": "python3"
  },
  "language_info": {
   "codemirror_mode": {
    "name": "ipython",
    "version": 3
   },
   "file_extension": ".py",
   "mimetype": "text/x-python",
   "name": "python",
   "nbconvert_exporter": "python",
   "pygments_lexer": "ipython3",
   "version": "3.9.7"
  },
  "orig_nbformat": 4
 },
 "nbformat": 4,
 "nbformat_minor": 2
}
