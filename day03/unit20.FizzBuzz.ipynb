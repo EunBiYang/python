{
 "cells": [
  {
   "cell_type": "markdown",
   "metadata": {},
   "source": [
    "# Unit. FizzBuzz"
   ]
  },
  {
   "cell_type": "code",
   "execution_count": 5,
   "metadata": {},
   "outputs": [
    {
     "name": "stdout",
     "output_type": "stream",
     "text": [
      "1 2 Fizz 4 Buzz Fizz 7 8 Fizz Buzz 11 Fizz 13 14 FizzBuzz 16 17 Fizz 19 Buzz Fizz 22 23 Fizz Buzz 26 Fizz 28 29 FizzBuzz 31 32 Fizz 34 Buzz Fizz 37 38 Fizz Buzz 41 Fizz 43 44 FizzBuzz 46 47 Fizz 49 Buzz Fizz 52 53 Fizz Buzz 56 Fizz 58 59 FizzBuzz 61 62 Fizz 64 Buzz Fizz 67 68 Fizz Buzz 71 Fizz 73 74 FizzBuzz 76 77 Fizz 79 Buzz Fizz 82 83 Fizz Buzz 86 Fizz 88 89 FizzBuzz 91 92 Fizz 94 Buzz Fizz 97 98 Fizz Buzz "
     ]
    }
   ],
   "source": [
    "for i in range(1,101):\n",
    "    if i % 15 == 0:\n",
    "        print('FizzBuzz',end=' ')\n",
    "    elif i % 5 == 0:\n",
    "        print('Buzz',end=' ')\n",
    "    elif i % 3 == 0:\n",
    "        print('Fizz',end=' ')\n",
    "    else:\n",
    "        print(i, end=' ')"
   ]
  },
  {
   "cell_type": "code",
   "execution_count": 6,
   "metadata": {},
   "outputs": [
    {
     "name": "stdout",
     "output_type": "stream",
     "text": [
      "1 2 Fizz 4 Bizz Fizz 7 8 Fizz Bizz 11 Fizz 13 14 FizzBizz 16 17 Fizz 19 Bizz Fizz 22 23 Fizz Bizz 26 Fizz 28 29 FizzBizz 31 32 Fizz 34 Bizz Fizz 37 38 Fizz Bizz 41 Fizz 43 44 FizzBizz 46 47 Fizz 49 Bizz Fizz 52 53 Fizz Bizz 56 Fizz 58 59 FizzBizz 61 62 Fizz 64 Bizz Fizz 67 68 Fizz Bizz 71 Fizz 73 74 FizzBizz 76 77 Fizz 79 Bizz Fizz 82 83 Fizz Bizz 86 Fizz 88 89 FizzBizz 91 92 Fizz 94 Bizz Fizz 97 98 Fizz Bizz "
     ]
    }
   ],
   "source": [
    "for i in range(1,101):\n",
    "    print('Fizz'*(i%3==0) + 'Bizz'*(i%5==0) or i, end=' ')"
   ]
  },
  {
   "cell_type": "markdown",
   "metadata": {},
   "source": [
    "### 연습문제\n",
    "<pre>\n",
    "세자리수 두개를 곱해서 만든 수가 대칭수(palindrome)일 때\n",
    "가장 큰 대칭수와 그 경우 두 수를 구하시오.\n",
    "</pre>"
   ]
  },
  {
   "cell_type": "code",
   "execution_count": null,
   "metadata": {},
   "outputs": [],
   "source": [
    "#세자리수 두개를 곱해서 만든 수\n",
    "for i in range(100,1000):\n",
    "    for k in range(i,1000):\n",
    "        mul = i *k"
   ]
  },
  {
   "cell_type": "code",
   "execution_count": 9,
   "metadata": {},
   "outputs": [],
   "source": [
    "#대칭수인지를 판단해주는 함수\n",
    "def is_palindrome(n):\n",
    "    s = str(n)\n",
    "    return s == s[::-1]"
   ]
  },
  {
   "cell_type": "code",
   "execution_count": 10,
   "metadata": {},
   "outputs": [
    {
     "data": {
      "text/plain": [
       "False"
      ]
     },
     "execution_count": 10,
     "metadata": {},
     "output_type": "execute_result"
    }
   ],
   "source": [
    "is_palindrome(1231)"
   ]
  },
  {
   "cell_type": "code",
   "execution_count": 22,
   "metadata": {},
   "outputs": [
    {
     "name": "stdout",
     "output_type": "stream",
     "text": [
      "913 993 906609\n"
     ]
    }
   ],
   "source": [
    "max_num = 0\n",
    "for i in range(100,1000):\n",
    "    for k in range(i,1000):\n",
    "        mul = i * k\n",
    "        if is_palindrome(mul):\n",
    "            if mul > max_num:\n",
    "                max_num = mul\n",
    "                num1, num2 = i, k\n",
    "                \n",
    "print(num1, num2, max_num)"
   ]
  },
  {
   "cell_type": "code",
   "execution_count": 14,
   "metadata": {},
   "outputs": [
    {
     "name": "stdout",
     "output_type": "stream",
     "text": [
      "83\n"
     ]
    }
   ],
   "source": [
    "#num_list 중 최대값은?\n",
    "num_list = [34,25,4,9,19,83,62]\n",
    "max_num = 0\n",
    "for num in num_list:\n",
    "    if num > max_num:\n",
    "        max_num = num\n",
    "print(max_num)"
   ]
  },
  {
   "cell_type": "code",
   "execution_count": 16,
   "metadata": {},
   "outputs": [
    {
     "name": "stdout",
     "output_type": "stream",
     "text": [
      "4\n"
     ]
    }
   ],
   "source": [
    "#num_list 중 최소값은?\n",
    "num_list = [34,25,4,9,19,83,62]\n",
    "min_num = 100\n",
    "for num in num_list:\n",
    "    if num < min_num:\n",
    "        min_num = num\n",
    "print(min_num)"
   ]
  }
 ],
 "metadata": {
  "interpreter": {
   "hash": "bbaff3bad43e72ef86a08724e2a04c1dc7b916dad0faa2935f126c230f07c1b0"
  },
  "kernelspec": {
   "display_name": "Python 3.9.7 ('base')",
   "language": "python",
   "name": "python3"
  },
  "language_info": {
   "codemirror_mode": {
    "name": "ipython",
    "version": 3
   },
   "file_extension": ".py",
   "mimetype": "text/x-python",
   "name": "python",
   "nbconvert_exporter": "python",
   "pygments_lexer": "ipython3",
   "version": "3.9.7"
  },
  "orig_nbformat": 4
 },
 "nbformat": 4,
 "nbformat_minor": 2
}
