{
 "cells": [
  {
   "cell_type": "markdown",
   "metadata": {},
   "source": [
    "##### unit 13\n",
    "<pre>\n",
    "표준 입력으로 가격(정수)과 쿠폰 이름이 각 줄에 입력됩니다. \n",
    "Cash3000 쿠폰은 3,000원, Cash5000 쿠폰은 5,000원을 할인합니다. \n",
    "쿠폰에 따라 할인된 가격을 출력하는 프로그램을 만드세요(input에서 안내 문자열은 출력하지 않아야 합니다).\n",
    "\n",
    "\n",
    "________________\n",
    "예\n",
    "\n",
    "입력\n",
    "27000\n",
    "Cash3000\n",
    "결과\n",
    "24000\n",
    "\n",
    "입력\n",
    "72000\n",
    "Cash5000\n",
    "결과\n",
    "67000\n",
    "<pre>"
   ]
  },
  {
   "cell_type": "code",
   "execution_count": null,
   "metadata": {},
   "outputs": [
    {
     "name": "stdout",
     "output_type": "stream",
     "text": [
      "67000\n"
     ]
    }
   ],
   "source": [
    "price = int(input())\n",
    "coupon = input()\n",
    "if coupon == 'Cash3000' :\n",
    "    price -= 3000\n",
    "if coupon == 'Cash5000':\n",
    "    price -= 5000\n",
    "print(price)\n"
   ]
  },
  {
   "cell_type": "markdown",
   "metadata": {},
   "source": [
    "#### unit 14\n",
    "<pre>\n",
    "표준 입력으로 국어, 영어, 수학, 과학 점수가 입력됩니다. \n",
    "여기서 네 과목의 평균 점수가 80점 이상일 때 합격이라고 정했습니다. \n",
    "평균 점수에 따라 '합격', '불합격'을 출력하는 프로그램을 만드세요(input에서 안내 문자열은 출력하지 않아야 합니다).\n",
    "단, 점수는 0점부터 100점까지만 입력받을 수 있으며 범위를 벗어났다면\n",
    "'잘못된 점수'를 출력하고 합격, 불합격 여부는 출력하지 않아야 합니다.\n",
    "\n",
    "________________\n",
    "________________\n",
    "예\n",
    "입력\n",
    "89 72 93 82\n",
    "결과\n",
    "합격\n",
    "입력\n",
    "100 79 68 71\n",
    "결과\n",
    "불합격\n",
    "입력\n",
    "99 85 101 90\n",
    "결과\n",
    "잘못된 점수\n",
    "<pre>"
   ]
  },
  {
   "cell_type": "code",
   "execution_count": null,
   "metadata": {},
   "outputs": [
    {
     "name": "stdout",
     "output_type": "stream",
     "text": [
      "잘못된 점수\n"
     ]
    }
   ],
   "source": [
    "kor, eng, math, sci = map(int, input().split())\n",
    "if  0 <= kor <= 100 and 0 <= eng <= 100 and 0 <= math <= 100 and 0 <= sci <= 100:\n",
    "    if (kor+eng+ math+sci)//4 >= 80:\n",
    "        print('합격')\n",
    "    else:\n",
    "        print('불합격')\n",
    "else:\n",
    "    print('잘못된 점수')\n"
   ]
  },
  {
   "cell_type": "code",
   "execution_count": 5,
   "metadata": {},
   "outputs": [
    {
     "name": "stdout",
     "output_type": "stream",
     "text": [
      "잘못된 점수\n"
     ]
    }
   ],
   "source": [
    "#강사님 답\n",
    "kor, eng, math, sci = map(int, input().split())\n",
    "if  0 <= kor <= 100 and 0 <= eng <= 100 and 0 <= math <= 100 and 0 <= sci <= 100:\n",
    "    avg = (kor+eng+ math+sci) /4\n",
    "    if avg >= 80:\n",
    "        print('합격')\n",
    "    else:\n",
    "        print('불합격')\n",
    "else:\n",
    "    print('잘못된 점수')\n"
   ]
  },
  {
   "cell_type": "markdown",
   "metadata": {},
   "source": [
    "- 실전에서 사용하는 코드"
   ]
  },
  {
   "cell_type": "code",
   "execution_count": null,
   "metadata": {},
   "outputs": [],
   "source": [
    "score = list = map(int, input('국어, 영어, 수학,과학 점수').split())\n",
    "if min(score) <0 or max(score) > 100:\n",
    "    print('잘못된 점수')\n",
    "else:\n",
    "    if sum(score) / len(score) >= 80:\n",
    "        print('합격')\n",
    "    else:\n",
    "        print('불합격')"
   ]
  },
  {
   "cell_type": "code",
   "execution_count": 8,
   "metadata": {},
   "outputs": [],
   "source": [
    "def is_vaild(score):\n",
    "    return 0 <= score <= 100"
   ]
  },
  {
   "cell_type": "code",
   "execution_count": 10,
   "metadata": {},
   "outputs": [
    {
     "name": "stdout",
     "output_type": "stream",
     "text": [
      "불합격\n"
     ]
    }
   ],
   "source": [
    "kor, eng, mat, sci = map(int, input().split())\n",
    "if  is_vaild(kor) and is_vaild(eng) and is_vaild(mat) and is_vaild(sci):\n",
    "    avg = (kor+eng+ math+sci) /4\n",
    "    if avg >= 80:\n",
    "        print('합격')\n",
    "    else:\n",
    "        print('불합격')\n",
    "else:\n",
    "    print('잘못된 점수')"
   ]
  },
  {
   "cell_type": "markdown",
   "metadata": {},
   "source": [
    "#### unit.15\n",
    "<pre>\n",
    "표준 입력으로 나이(만 나이)가 입력됩니다(입력 값은 7 이상 입력됨). \n",
    "교통카드 시스템에서 시내버스 요금은 다음과 같으며 \n",
    "각 나이에 맞게 요금을 차감한 뒤 잔액이 출력되게 만드세요(if, elif 사용). \n",
    "현재 교통카드에는 9,000원이 들어있습니다.\n",
    "\n",
    "어린이(초등학생, 만 7세 이상 12세 이하): 650원\n",
    "청소년(중∙고등학생, 만 13세 이상 18세 이하): 1,050원\n",
    "어른(일반, 만 19세 이상): 1,250원\n",
    "\n",
    "\n",
    "age = int(input())\n",
    "balance = 9000    # 교통카드 잔액\n",
    "\n",
    "________________\n",
    "\n",
    "print(balance)\n",
    "\n",
    "예\n",
    "입력\n",
    "17\n",
    "결과\n",
    "7950\n",
    "입력\n",
    "12\n",
    "결과\n",
    "8350\n",
    "<pre>\n"
   ]
  },
  {
   "cell_type": "code",
   "execution_count": null,
   "metadata": {},
   "outputs": [
    {
     "name": "stdout",
     "output_type": "stream",
     "text": [
      "8350\n"
     ]
    }
   ],
   "source": [
    "age = int(input())\n",
    "balance = 9000    # 교통카드 잔액\n",
    "\n",
    "if 7 <= age <= 12:\n",
    "    balance -= 650\n",
    "elif 13 <= age <= 18:\n",
    "    balance -= 1050\n",
    "elif age <= 19:\n",
    "    balance -= 1250\n",
    "\n",
    "print(balance)"
   ]
  },
  {
   "cell_type": "code",
   "execution_count": 11,
   "metadata": {},
   "outputs": [
    {
     "name": "stdout",
     "output_type": "stream",
     "text": [
      "17살의 요금은  1,050원입니다.\n"
     ]
    }
   ],
   "source": [
    "age = int(input())\n",
    "balance = 9000    # 교통카드 잔액\n",
    "\n",
    "if 7 <= age <= 12:\n",
    "    fare = 650\n",
    "elif 13 <= age <= 18:\n",
    "    fare = 1050\n",
    "elif age <= 19:\n",
    "    fare = 1250\n",
    "else:\n",
    "    fare = 0\n",
    "\n",
    "print(f'{age}살의 요금은 {fare : ,d}원입니다.')"
   ]
  },
  {
   "cell_type": "markdown",
   "metadata": {},
   "source": [
    "#### unit.16\n",
    "<pre>\n",
    "표준 입력으로 정수가 입력됩니다. \n",
    "입력된 정수의 구구단을 출력하는 프로그램을 만드세요\n",
    "(input에서 안내 문자열은 출력하지 않아야 합니다).\n",
    "출력 형식은 숫자 * 숫자 = 숫자처럼 만들고 \n",
    "숫자와 *, = 사이는 공백을 한 칸 띄웁니다.\n",
    "\n",
    "\n",
    "________________\n",
    "예\n",
    "입력\n",
    "2\n",
    "결과\n",
    "2 * 1 = 2\n",
    "2 * 2 = 4\n",
    "2 * 3 = 6\n",
    "2 * 4 = 8\n",
    "2 * 5 = 10\n",
    "2 * 6 = 12\n",
    "2 * 7 = 14\n",
    "2 * 8 = 16\n",
    "2 * 9 = 18\n",
    "입력\n",
    "7\n",
    "결과\n",
    "7 * 1 = 7\n",
    "7 * 2 = 14\n",
    "7 * 3 = 21\n",
    "7 * 4 = 28\n",
    "7 * 5 = 35\n",
    "7 * 6 = 42\n",
    "7 * 7 = 49\n",
    "7 * 8 = 56\n",
    "7 * 9 = 63\n",
    "<pre>\n"
   ]
  },
  {
   "cell_type": "code",
   "execution_count": 192,
   "metadata": {},
   "outputs": [
    {
     "name": "stdout",
     "output_type": "stream",
     "text": [
      "2 * 0 = 0\n",
      "2 * 1 = 2\n",
      "2 * 2 = 4\n",
      "2 * 3 = 6\n",
      "2 * 4 = 8\n",
      "2 * 5 = 10\n",
      "2 * 6 = 12\n",
      "2 * 7 = 14\n",
      "2 * 8 = 16\n",
      "2 * 9 = 18\n"
     ]
    }
   ],
   "source": [
    "num = int(input())\n",
    "for i in range(10):\n",
    "    print(num,'*',i,'=',(num*i))"
   ]
  },
  {
   "cell_type": "markdown",
   "metadata": {},
   "source": [
    "#### unit.17\n",
    "<pre>\n",
    "표준 입력으로 금액(정수)이 입력됩니다. 1회당 요금은 1,350원이고,\n",
    "교통카드를 사용했을 때마다의 잔액을 각 줄에 출력하는 프로그램을 만드세요.\n",
    "(input에서 안내 문자열은 출력하지 않아야 합니다). \n",
    "단, 최초 금액은 출력하지 않아야 합니다. 그리고 잔액은 음수가 될 수 없으며 \n",
    "잔액이 부족하면 출력을 끝냅니다.\n",
    "\n",
    "________________\n",
    "예\n",
    "입력\n",
    "10000\n",
    "결과\n",
    "8650\n",
    "7300\n",
    "5950\n",
    "4600\n",
    "3250\n",
    "1900\n",
    "550\n",
    "입력\n",
    "13500\n",
    "결과\n",
    "12150\n",
    "10800\n",
    "9450\n",
    "8100\n",
    "6750\n",
    "5400\n",
    "4050\n",
    "2700\n",
    "1350\n",
    "0\n",
    "<pre>"
   ]
  },
  {
   "cell_type": "code",
   "execution_count": 196,
   "metadata": {},
   "outputs": [
    {
     "name": "stdout",
     "output_type": "stream",
     "text": [
      "12150\n",
      "10800\n",
      "9450\n",
      "8100\n",
      "6750\n",
      "5400\n",
      "4050\n",
      "2700\n",
      "1350\n",
      "0\n"
     ]
    }
   ],
   "source": [
    "amount = int(input())\n",
    "while amount >= 1350:\n",
    "    amount -= 1350\n",
    "    print(amount)"
   ]
  },
  {
   "cell_type": "code",
   "execution_count": null,
   "metadata": {},
   "outputs": [],
   "source": [
    "#강사님 답\n",
    "balance = int(intput())\n",
    "fare = 1350\n",
    "\n",
    "while balance >= 1350:\n",
    "    balance -= 1350\n",
    "    print(balance)"
   ]
  },
  {
   "cell_type": "markdown",
   "metadata": {},
   "source": [
    "#### unit.18\n",
    "<pre>\n",
    "표준 입력으로 정수 두 개가 입력됩니다\n",
    "(첫 번째 입력 값의 범위는 1~200, 두 번째 입력 값의 범위는 10~200이며 \n",
    "첫 번째 입력 값은 두 번째 입력 값보다 항상 작습니다). \n",
    "다음 소스 코드를 완성하여 첫 번째 정수와 두 번째 정수 사이의 숫자 중 \n",
    "3으로 끝나지 않는 숫자가 출력되게 만드세요.\n",
    "정답에 코드를 작성할 때는 while True:에 맞춰서 들여쓰기를 해주세요.\n",
    "\n",
    "\n",
    "start, stop = map(int, input().split())\n",
    "\n",
    "i = start\n",
    "while True:\n",
    "_____________________\n",
    "_____________________\n",
    "    print(i, end=' ')\n",
    "    i += 1\n",
    "\n",
    "예)\n",
    "입력\n",
    "1 20\n",
    "결과\n",
    "1 2 4 5 6 7 8 9 10 11 12 14 15 16 17 18 19 20\n",
    "\n",
    "입력\n",
    "21 33\n",
    "결과\n",
    "21 22 24 25 26 27 28 29 30 31 32\n",
    "<pre>"
   ]
  },
  {
   "cell_type": "code",
   "execution_count": 3,
   "metadata": {},
   "outputs": [
    {
     "name": "stdout",
     "output_type": "stream",
     "text": [
      "1 2 4 5 6 7 8 9 10 11 12 14 15 16 17 18 19 20 "
     ]
    }
   ],
   "source": [
    "start, stop = map(int, input().split())\n",
    " \n",
    "i = start\n",
    "\n",
    "while True:    \n",
    "    if i % 10 != 3:\n",
    "         print(i, end=' ')\n",
    "    i+=1\n",
    "    if i > stop: \n",
    "        break"
   ]
  },
  {
   "cell_type": "code",
   "execution_count": 4,
   "metadata": {},
   "outputs": [
    {
     "name": "stdout",
     "output_type": "stream",
     "text": [
      "1 2 4 5 6 7 8 9 10 11 12 14 15 16 17 18 19 20 "
     ]
    }
   ],
   "source": [
    "#강사님 답\n",
    "start, stop = map(int, input().split())\n",
    "i = start\n",
    "while True:\n",
    "    if i > stop:\n",
    "        break\n",
    "    if i % 10 == 3:\n",
    "        i += 1\n",
    "        continue\n",
    "    print(i, end=' ')\n",
    "    i += 1"
   ]
  },
  {
   "cell_type": "markdown",
   "metadata": {},
   "source": [
    "#### unit.19\n",
    "<pre>\n",
    "표준 입력으로 삼각형의 높이가 입력됩니다. \n",
    "입력된 높이만큼 산 모양으로 별을 출력하는 프로그램을 만드세요\n",
    "(input에서 안내 문자열은 출력하지 않아야 합니다). \n",
    "이때 출력 결과는 예제와 정확히 일치해야 합니다. \n",
    "모양이 같더라도 공백이나 빈 줄이 더 들어가면 틀린 것으로 처리됩니다.\n",
    "\n",
    "________________\n",
    "\n",
    "<pre>\n"
   ]
  },
  {
   "cell_type": "code",
   "execution_count": 177,
   "metadata": {},
   "outputs": [
    {
     "name": "stdout",
     "output_type": "stream",
     "text": [
      "   *\n",
      "  ***\n",
      " *****\n"
     ]
    }
   ],
   "source": [
    "n = int(input())\n",
    "for i in range(n):\n",
    "    for k in range(n-i):\n",
    "        print(' ',end='')\n",
    "    for k in range(2*i+1):\n",
    "        print('*',end='')\n",
    "    print()"
   ]
  },
  {
   "cell_type": "code",
   "execution_count": 12,
   "metadata": {},
   "outputs": [
    {
     "name": "stdout",
     "output_type": "stream",
     "text": [
      "  *\n",
      " ***\n",
      "*****\n"
     ]
    }
   ],
   "source": [
    "#강사님 답\n",
    "n = int(input())\n",
    "\n",
    "for i in range(n):\n",
    "    for k in range(n-i-1):\n",
    "        print(' ',end='')\n",
    "    for k in range(2*i+1):\n",
    "        print('*',end='')\n",
    "    print()"
   ]
  },
  {
   "cell_type": "code",
   "execution_count": 14,
   "metadata": {},
   "outputs": [
    {
     "name": "stdout",
     "output_type": "stream",
     "text": [
      "   \n",
      "  *\n",
      " ***\n",
      "*****\n"
     ]
    }
   ],
   "source": [
    "n = int(input())\n",
    "\n",
    "for i in range(n):\n",
    "    print(' '*(n-i-1) + '*'*(2*i-1))"
   ]
  },
  {
   "cell_type": "markdown",
   "metadata": {},
   "source": [
    "# unit. 20\n",
    "<pre>\n",
    "표준 입력으로 정수 두 개가 입력됩니다(첫 번째 입력 값의 범위는 1~1000, 두 번째 입력 값의 범위는 10~1000이며\n",
    "첫 번째 입력 값은 두 번째 입력 값보다 항상 작습니다). 첫 번째 정수부터 두 번째 정수까지 숫자를 출력하면서 \n",
    "5의 배수일 때는 'Fizz', 7의 배수일 때는 'Buzz', 5와 7의 공배수일 때는 'FizzBuzz'를 출력하는 프로그램을\n",
    "만드세요(input에서 안내 문자열은 출력하지 않아야 합니다).\n",
    "\n",
    "________________\n",
    "예\n",
    "입력\n",
    "35 40\n",
    "결과\n",
    "FizzBuzz\n",
    "36\n",
    "37\n",
    "38\n",
    "39\n",
    "Fizz\n",
    "<pre>"
   ]
  },
  {
   "cell_type": "code",
   "execution_count": 191,
   "metadata": {},
   "outputs": [
    {
     "name": "stdout",
     "output_type": "stream",
     "text": [
      "FizzBuzz\n",
      "36\n",
      "37\n",
      "38\n",
      "39\n",
      "Fizz\n"
     ]
    }
   ],
   "source": [
    "a,b =map(int,input().split())\n",
    "for i in range(a,b+1):\n",
    "    if i %5 ==0 and i%7 ==0:\n",
    "        print('FizzBuzz',end='\\n')\n",
    "    elif i %5 == 0:\n",
    "        print('Fizz',end='\\n')\n",
    "    elif i %7 == 0:\n",
    "        print('Buzz',end='\\n')\n",
    "    else:\n",
    "        print(i,end='\\n')\n",
    "    "
   ]
  },
  {
   "cell_type": "code",
   "execution_count": null,
   "metadata": {},
   "outputs": [],
   "source": [
    "m,n = map(int,input().split())\n",
    "if 1 <= m <= 1000 and <= n <=1000 and m<n :\n",
    "    for i in range(m, n+1):\n",
    "        print('Fizz'*(i%5==0)+'buzz'*(i%7==0) or i, end=' ')"
   ]
  },
  {
   "cell_type": "markdown",
   "metadata": {},
   "source": [
    "### 연습문제\n",
    "<pre>\n",
    "- 자기자신을 제외한 약수의 합이 자신이 되는 수를 완전수(perfect number)라 한다.\n",
    "예를 들어, 6의 자신을 제외한 약수의 합이 1+2+3 =6이므로 완전수 이다.\n",
    "1에서 10000까지는 4개의 완전수가 있다. 이를 찾아보세요.\n",
    "<pre>"
   ]
  },
  {
   "cell_type": "code",
   "execution_count": 15,
   "metadata": {},
   "outputs": [
    {
     "name": "stdout",
     "output_type": "stream",
     "text": [
      "1 3 9 27 81 "
     ]
    }
   ],
   "source": [
    "#약수를 구하는 방법\n",
    "n= int(input())\n",
    "for i in range(1, n+1):\n",
    "    if n % i == 0:\n",
    "        print(i, end=' ')"
   ]
  },
  {
   "cell_type": "code",
   "execution_count": 21,
   "metadata": {},
   "outputs": [
    {
     "name": "stdout",
     "output_type": "stream",
     "text": [
      "6\n",
      "28\n",
      "496\n",
      "8128\n"
     ]
    }
   ],
   "source": [
    "for i in range(2, 10001):\n",
    "    #약수(divisor)의 합\n",
    "    div_sum = 0\n",
    "    for k in range(1,i):\n",
    "        if i % k == 0:\n",
    "            div_sum += k\n",
    "    #prefect number(완전수)인가?\n",
    "    if i == div_sum:\n",
    "        print(i)"
   ]
  },
  {
   "cell_type": "code",
   "execution_count": null,
   "metadata": {},
   "outputs": [],
   "source": []
  }
 ],
 "metadata": {
  "interpreter": {
   "hash": "bbaff3bad43e72ef86a08724e2a04c1dc7b916dad0faa2935f126c230f07c1b0"
  },
  "kernelspec": {
   "display_name": "Python 3.9.7 ('base')",
   "language": "python",
   "name": "python3"
  },
  "language_info": {
   "codemirror_mode": {
    "name": "ipython",
    "version": 3
   },
   "file_extension": ".py",
   "mimetype": "text/x-python",
   "name": "python",
   "nbconvert_exporter": "python",
   "pygments_lexer": "ipython3",
   "version": "3.9.7"
  },
  "orig_nbformat": 4
 },
 "nbformat": 4,
 "nbformat_minor": 2
}
