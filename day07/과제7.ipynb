{
 "cells": [
  {
   "cell_type": "markdown",
   "metadata": {},
   "source": [
    "### 심사문제 34.6\n",
    "<pre>\n",
    "표준 입력으로 게임 캐릭터 능력치(체력, 마나, AP)가 입력됩니다. \n",
    "다음 소스 코드에서 애니(Annie) 클래스를 작성하여 티버(tibbers) 스킬의 피해량이 출력되게 만드세요. \n",
    "티버의 피해량은 AP * 0.65 + 400이며 AP(Ability Power, 주문력)는 마법 능력치를 뜻합니다.\n",
    "\n",
    "\n",
    "예\n",
    "입력\n",
    "511.68 334.0 298\n",
    "결과\n",
    "티버: 피해량 593.7\n",
    "입력\n",
    "1803.68 1184.0 645\n",
    "결과\n",
    "티버: 피해량 819.25\n",
    "<pre>\n"
   ]
  },
  {
   "cell_type": "code",
   "execution_count": 6,
   "metadata": {},
   "outputs": [
    {
     "name": "stdout",
     "output_type": "stream",
     "text": [
      "티버 : 피해량 819.25\n"
     ]
    }
   ],
   "source": [
    "\n",
    "class Annie:\n",
    "    def __init__(self, health, mana, ability_power):\n",
    "        self.health = health\n",
    "        self.mana = mana\n",
    "        self.ability_power = ability_power\n",
    "\n",
    "    def tibbers(self):\n",
    "        print(f'티버 : 피해량',self.ability_power * 0.65 + 400)\n",
    "\n",
    "\n",
    "health, mana, ability_power = map(float, input().split())\n",
    " \n",
    "x = Annie(health=health, mana=mana, ability_power=ability_power)\n",
    "x.tibbers()"
   ]
  },
  {
   "cell_type": "markdown",
   "metadata": {},
   "source": [
    "1. Calculator 구현\n",
    "\n",
    "\tadd, sub, mul, div 메소드 구현\n",
    "\n",
    "\t단, 0으로 나누지 못하게 할 것.\n",
    "\t"
   ]
  },
  {
   "cell_type": "code",
   "execution_count": 51,
   "metadata": {},
   "outputs": [],
   "source": [
    "class Calculator:\n",
    "    def add(self,x, y):\n",
    "        print(x + y)\n",
    "    def sub(self,x, y):\n",
    "        print(x - y)\n",
    "    def mul(self,x, y):\n",
    "        print(x * y)\n",
    "    def div(self,x, y):\n",
    "        if y  == 0:\n",
    "            return print('잘못된 입력입니다.')\n",
    "        print(x / y)\n",
    "    def div(self,x, y):\n",
    "        if abs(y)  == 1e-15:\n",
    "            return print('잘못된 입력입니다.')\n",
    "        print(x / y)"
   ]
  },
  {
   "cell_type": "code",
   "execution_count": null,
   "metadata": {},
   "outputs": [],
   "source": [
    "class Calculator:\n",
    "    def add(self,x, y):\n",
    "        return x + y\n",
    "    def sub(self,x, y):\n",
    "        return x - y\n",
    "    def mul(self,x, y):\n",
    "        return x * y\n",
    "    def div(self,x, y):\n",
    "        if abs(y)  == 1e-15:\n",
    "            return None\n",
    "        return x / y)"
   ]
  },
  {
   "cell_type": "code",
   "execution_count": 52,
   "metadata": {},
   "outputs": [
    {
     "name": "stdout",
     "output_type": "stream",
     "text": [
      "잘못된 입력입니다.\n"
     ]
    }
   ],
   "source": [
    "calc=Calculator()\n",
    "calc.div(3,0)"
   ]
  },
  {
   "cell_type": "markdown",
   "metadata": {},
   "source": [
    "2. Account 클래스 만들기\n",
    "<pre>\n",
    "### 속성\n",
    "ano: 문자열 6글자, '123456'\n",
    "owner: 문자열\n",
    "balance: 잔액, 비공개 속성 \n",
    "\n",
    "### Method\n",
    "생성자\n",
    "deposit(amount) 잔액이 1000만원 이상이면 입금할 수 없음\n",
    "withdraw(amount) 잔액이 0원 미만이면 출금할 수 없음\n",
    "출력 가능하게(__str__)\n",
    "<pre>\n"
   ]
  },
  {
   "cell_type": "code",
   "execution_count": 20,
   "metadata": {},
   "outputs": [],
   "source": [
    "class Account:\n",
    "    def __init__(self, ano, owner, balance):\n",
    "        self.ano = ano                  #계좌번호\n",
    "        self.owner = owner\n",
    "        self.__balance = balance\n",
    "\n",
    "    def deposit(self, amount):\n",
    "        if self.__balance >= 10000000:\n",
    "            print('입금 할 수 없습니다.')\n",
    "        else :\n",
    "            self.__balance += amount\n",
    "\n",
    "    def withdraw(self, amount):\n",
    "        if self.__balance <= 0:\n",
    "            print('출금 할 수 없습니다.')\n",
    "        else :\n",
    "            self.__balance -= amount\n",
    "\n",
    "\n",
    "    def get_balance(self):                  #getter \n",
    "        return (self.__balance)\n",
    "\n",
    "\n",
    "    \n",
    "    def __str__(self):\n",
    "        return f'계좌번호 : {self.ano}, 예금주 : {self.owner}, 잔고 : {self.__balance}'\n",
    "\n",
    "\n",
    "\n",
    "    "
   ]
  },
  {
   "cell_type": "code",
   "execution_count": 13,
   "metadata": {},
   "outputs": [],
   "source": [
    "#강사님 \n",
    "class Account1:\n",
    "    def __init__(self, ano, owner, balance):\n",
    "        self.ano = ano\n",
    "        self.owner = owner\n",
    "        self.__balance = balance\n",
    "\n",
    "    def deposit(self, amount):\n",
    "        if amount + self.__balance >= 10000000:\n",
    "            print('천만원 이상은 잔액으로 가져갈 수 없습니다.')\n",
    "            return\n",
    "        self.__balance += amount\n",
    "\n",
    "    def withdraw(self, amount):\n",
    "        if self.__balance - amount < 0:\n",
    "            print('잔액이 부족합니다.')\n",
    "            return\n",
    "        self.__balance -= amount\n",
    "\n",
    "    def __str__(self):\n",
    "        return f'계좌번호: {self.ano}, 소유주: {self.owner}, 잔액: {self.__balance:9,d}'\n",
    "\n"
   ]
  },
  {
   "cell_type": "code",
   "execution_count": 14,
   "metadata": {},
   "outputs": [
    {
     "name": "stdout",
     "output_type": "stream",
     "text": [
      "계좌번호: 384948, 소유주: 마리아, 잔액:    10,000\n"
     ]
    }
   ],
   "source": [
    "acc1 = Account1(384948, '마리아', 10000)\n",
    "print(acc1)\n"
   ]
  },
  {
   "cell_type": "code",
   "execution_count": 16,
   "metadata": {},
   "outputs": [
    {
     "name": "stdout",
     "output_type": "stream",
     "text": [
      "계좌번호: 384948, 소유주: 마리아, 잔액:   210,000\n"
     ]
    }
   ],
   "source": [
    "acc1.deposit(100000)\n",
    "print(acc1)"
   ]
  },
  {
   "cell_type": "code",
   "execution_count": 18,
   "metadata": {},
   "outputs": [
    {
     "name": "stdout",
     "output_type": "stream",
     "text": [
      "계좌번호 : 123456, 예금주 : 홍길동, 잔고 : 100000\n"
     ]
    }
   ],
   "source": [
    "acc2 = Account(123456, '홍길동', 100000)\n",
    "print(acc2)"
   ]
  },
  {
   "cell_type": "code",
   "execution_count": 19,
   "metadata": {},
   "outputs": [
    {
     "name": "stdout",
     "output_type": "stream",
     "text": [
      "입금 할 수 없습니다.\n"
     ]
    }
   ],
   "source": [
    "acc2.deposit(100000)"
   ]
  },
  {
   "cell_type": "markdown",
   "metadata": {},
   "source": []
  },
  {
   "cell_type": "markdown",
   "metadata": {},
   "source": [
    "- 사용자 I/F\n",
    "\n",
    " 1.계좌생성, 2:계좌 목록, 3. 입금, 4.출금, 5,종료\n",
    "\n",
    " 기계 만들어보기"
   ]
  },
  {
   "cell_type": "code",
   "execution_count": null,
   "metadata": {},
   "outputs": [],
   "source": []
  },
  {
   "cell_type": "code",
   "execution_count": null,
   "metadata": {},
   "outputs": [],
   "source": []
  },
  {
   "cell_type": "markdown",
   "metadata": {},
   "source": [
    "- 비공개 속성"
   ]
  },
  {
   "cell_type": "code",
   "execution_count": null,
   "metadata": {},
   "outputs": [],
   "source": [
    "type(acc)"
   ]
  },
  {
   "cell_type": "code",
   "execution_count": null,
   "metadata": {},
   "outputs": [],
   "source": [
    "dir(acc)  # = acc객체에서 할수 있는 일을 보여준다. 속성과 매소드 확인 가능"
   ]
  },
  {
   "cell_type": "code",
   "execution_count": null,
   "metadata": {},
   "outputs": [],
   "source": [
    "acc == acc2"
   ]
  },
  {
   "cell_type": "code",
   "execution_count": null,
   "metadata": {},
   "outputs": [],
   "source": [
    "add._Account__blance"
   ]
  }
 ],
 "metadata": {
  "interpreter": {
   "hash": "bbaff3bad43e72ef86a08724e2a04c1dc7b916dad0faa2935f126c230f07c1b0"
  },
  "kernelspec": {
   "display_name": "Python 3.9.7 ('base')",
   "language": "python",
   "name": "python3"
  },
  "language_info": {
   "codemirror_mode": {
    "name": "ipython",
    "version": 3
   },
   "file_extension": ".py",
   "mimetype": "text/x-python",
   "name": "python",
   "nbconvert_exporter": "python",
   "pygments_lexer": "ipython3",
   "version": "3.9.7"
  },
  "orig_nbformat": 4
 },
 "nbformat": 4,
 "nbformat_minor": 2
}
