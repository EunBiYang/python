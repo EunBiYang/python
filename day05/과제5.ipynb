{
 "cells": [
  {
   "cell_type": "markdown",
   "metadata": {},
   "source": [
    "### unit24 "
   ]
  },
  {
   "cell_type": "markdown",
   "metadata": {},
   "source": [
    "- 문제\n",
    "<pre>\n",
    "표준 입력으로 문자열이 입력됩니다. 입력된 문자열에서 'the'의 개수를 출력하는 프로그램을 만드세요(input에서 안내 문자열은 출력하지 않아야 합니다).\n",
    "단, 모든 문자가 소문자인 'the'만 찾으면 되며 'them', 'there', 'their' 등은 포함하지 않아야 합니다.\n",
    "<pre>\n"
   ]
  },
  {
   "cell_type": "code",
   "execution_count": 93,
   "metadata": {},
   "outputs": [
    {
     "name": "stdout",
     "output_type": "stream",
     "text": [
      "6\n"
     ]
    }
   ],
   "source": [
    "text = \"\"\"\n",
    "the grown-ups' response, this time, was to advise me to lay aside my drawings of boa constrictors, \n",
    "whether from the inside or the outside, and devote myself instead to geography, history, arithmetic, \n",
    "and grammar. That is why, at the, age of six, I gave up what might have been a magnificent career \n",
    "as a painter. I had been disheartened by the failure of my Drawing Number One and my Drawing Number Two. \n",
    "Grown-ups never understand anything by themselves, and it is tiresome for children to be always and \n",
    "forever explaining things to the.\n",
    "\"\"\"\n",
    "text_list = text.split()\n",
    "\n",
    "count_the = 0\n",
    "for word in text_list:\n",
    "    word = word.strip(\"',.\").lower()\n",
    "    if word == 'the':\n",
    "        count_the +=1\n",
    "print(count_the)\n",
    "\n"
   ]
  },
  {
   "cell_type": "markdown",
   "metadata": {},
   "source": [
    "### unit.24 -2\n",
    "<pre>\n",
    "문제\n",
    "표준 입력으로 물품 가격 여러 개가 문자열 한 줄로 입력되고, 각 가격은 ;(세미콜론)으로 구분되어 있습니다.\n",
    " 입력된 가격을 높은 가격순으로 출력하는 프로그램을 만드세요(input에서 안내 문자열은 출력하지 않아야 합니다).\n",
    "  이때 가격은 길이를 9로 만든 뒤 오른쪽으로 정렬하고 천단위로 ,(콤마)를 넣으세요.\n",
    "\n",
    "________________\n",
    "\n",
    "\n",
    "예\n",
    "입력\n",
    "51900;83000;158000;367500;250000;59200;128500;1304000\n",
    "결과\n",
    "1,304,000\n",
    "  367,500\n",
    "  250,000\n",
    "  158,000\n",
    "  128,500\n",
    "   83,000\n",
    "   59,200\n",
    "   51,900"
   ]
  },
  {
   "cell_type": "code",
   "execution_count": 84,
   "metadata": {},
   "outputs": [
    {
     "name": "stdout",
     "output_type": "stream",
     "text": [
      "1,304,000\n",
      "  367,500\n",
      "  250,000\n",
      "  158,000\n",
      "  128,500\n",
      "   83,000\n",
      "   59,200\n",
      "   51,900\n"
     ]
    }
   ],
   "source": [
    "input_str = '51900;83000;158000;367500;250000;59200;128500;1304000'\n",
    "price_list = list(map(int, input_str.split(';')))\n",
    "price_list.sort(reverse=True)\n",
    "for price in price_list:\n",
    "    print(f'{price:9,d}')"
   ]
  },
  {
   "cell_type": "markdown",
   "metadata": {},
   "source": [
    "### unit25.\n",
    "문제\n",
    "<pre>\n",
    "표준 입력으로 문자열 여러 개와 숫자 여러 개가 두 줄로 입력되고, \n",
    "첫 번째 줄은 키, 두 번째 줄은 값으로 하여 딕셔너리를 생성합니다. \n",
    "다음 코드를 완성하여 딕셔너리에서 키가 'delta'인 키-값 쌍과 값이 30인 키-값 쌍을 삭제하도록 만드세요.\n",
    "\n",
    "keys = input().split()\n",
    "values = map(int, input().split())\n",
    " \n",
    "x = dict(zip(keys, values))\n",
    " \n",
    "________________\n",
    "________________\n",
    " \n",
    "print(x)\n",
    "\n",
    "\n",
    "예\n",
    "입력\n",
    "alpha bravo charlie delta\n",
    "10 20 30 40\n",
    "결과\n",
    "{'alpha': 10, 'bravo': 20}\n",
    "\n",
    "입력\n",
    "alpha bravo charlie delta echo foxtrot golf\n",
    "30 40 50 60 70 80 90\n",
    "결과\n",
    "{'bravo': 40, 'charlie': 50, 'echo': 70, 'foxtrot': 80, 'golf': 90}\n",
    "<pre>"
   ]
  },
  {
   "cell_type": "code",
   "execution_count": 97,
   "metadata": {},
   "outputs": [
    {
     "data": {
      "text/plain": [
       "{'alpha': 10, 'bravo': 20}"
      ]
     },
     "execution_count": 97,
     "metadata": {},
     "output_type": "execute_result"
    }
   ],
   "source": [
    "keys = input().split()\n",
    "values = map(int, input().split())\n",
    "x = dict(zip(keys, values))\n",
    "\n",
    "del x['delta']\n",
    "\n",
    "for key, value in x.items():\n",
    "    if value == 30:\n",
    "        break\n",
    "del x[key]\n",
    "x\n",
    "                     \n"
   ]
  },
  {
   "cell_type": "markdown",
   "metadata": {},
   "source": [
    "# unit26\n",
    "문제\n",
    "<pre>\n",
    "표준 입력으로 양의 정수 두 개가 입력됩니다. 다음 소스 코드를 완성하여 두 숫자의 공약수를 세트 형태로 구하도록 만드세요. 단, 최종 결과는 공약수의 합으로 판단합니다.\n",
    "\n",
    "________________\n",
    "________________\n",
    "________________\n",
    " \n",
    "divisor = a & b\n",
    " \n",
    "result = 0\n",
    "if type(divisor) == set:\n",
    "    result = sum(divisor)\n",
    " \n",
    "print(result)\n",
    "\n",
    "\n",
    "예\n",
    "입력\n",
    "10 20\n",
    "결과\n",
    "18\n",
    "\n",
    "입력\n",
    "100 200\n",
    "결과\n",
    "217"
   ]
  },
  {
   "cell_type": "code",
   "execution_count": 89,
   "metadata": {},
   "outputs": [
    {
     "name": "stdout",
     "output_type": "stream",
     "text": [
      "18\n"
     ]
    }
   ],
   "source": [
    "x, y = map(int, input().split())\n",
    "div_set = set()\n",
    "\n",
    "a = {i for i in range(1, x+1) if x % i == 0}\n",
    "b = {i for i in range(1, y+1) if y % i == 0}\n",
    "\n",
    "common_divisor = a & b         \n",
    " \n",
    "if type(common_divisor) == set:\n",
    "    result = sum(common_divisor)\n",
    " \n",
    "print(result)"
   ]
  },
  {
   "cell_type": "code",
   "execution_count": null,
   "metadata": {},
   "outputs": [],
   "source": []
  }
 ],
 "metadata": {
  "interpreter": {
   "hash": "bbaff3bad43e72ef86a08724e2a04c1dc7b916dad0faa2935f126c230f07c1b0"
  },
  "kernelspec": {
   "display_name": "Python 3.9.7 ('base')",
   "language": "python",
   "name": "python3"
  },
  "language_info": {
   "codemirror_mode": {
    "name": "ipython",
    "version": 3
   },
   "file_extension": ".py",
   "mimetype": "text/x-python",
   "name": "python",
   "nbconvert_exporter": "python",
   "pygments_lexer": "ipython3",
   "version": "3.9.7"
  },
  "orig_nbformat": 4
 },
 "nbformat": 4,
 "nbformat_minor": 2
}
