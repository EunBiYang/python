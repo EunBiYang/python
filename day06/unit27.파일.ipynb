{
 "cells": [
  {
   "cell_type": "markdown",
   "metadata": {},
   "source": [
    "# Unit27. 파일(Flie)\n",
    "\n",
    "### 27.1 파일 읽기/쓰기(read/write)"
   ]
  },
  {
   "cell_type": "markdown",
   "metadata": {},
   "source": [
    "- 파일에 문자열 쓰기"
   ]
  },
  {
   "cell_type": "markdown",
   "metadata": {},
   "source": [
    "text file - 읽을 수 있는 파일(글자가 눈에 보인다, txt, csv)\n",
    "\n",
    "binary file - 글자가 안보이는 파일(사진,워드/엑셀, 게임, 응용프로그램 ...)"
   ]
  },
  {
   "cell_type": "code",
   "execution_count": 1,
   "metadata": {},
   "outputs": [],
   "source": [
    "file = open('hello.txt', 'w')  #hello. txt 파일을 쓰기모드(w)로 open\n",
    "file.write('Hello, World')\n",
    "file.write('안녕하세요?')\n",
    "file.close()"
   ]
  },
  {
   "cell_type": "code",
   "execution_count": 2,
   "metadata": {},
   "outputs": [],
   "source": [
    "file = open('hello.txt', 'w')  #hello. txt 파일을 쓰기모드(w)로 open\n",
    "file.write('Hello, World\\n')\n",
    "file.write('안녕하세요?\\n')\n",
    "file.close()\n",
    "# write 모드에서는 전에 있는 내용이 덮어씌워진다."
   ]
  },
  {
   "cell_type": "markdown",
   "metadata": {},
   "source": [
    "- 파일로부터 텍스트 읽기"
   ]
  },
  {
   "cell_type": "code",
   "execution_count": 3,
   "metadata": {},
   "outputs": [
    {
     "name": "stdout",
     "output_type": "stream",
     "text": [
      "Hello, World\n",
      "안녕하세요?\n",
      "\n"
     ]
    }
   ],
   "source": [
    "#hello. txt 파일을 읽기모드(r)로 open\n",
    "file = open('hello.txt', 'r')   # r은 생략 가능, 디폴드 값이 r 이다.\n",
    "text = file.read()              # 크기 정보를 안주면 처음부터 끝까지 읽음\n",
    "print(text)\n",
    "file.close()"
   ]
  },
  {
   "cell_type": "code",
   "execution_count": 4,
   "metadata": {},
   "outputs": [
    {
     "name": "stdout",
     "output_type": "stream",
     "text": [
      "Hello, World\n",
      "안녕\n"
     ]
    }
   ],
   "source": [
    "file = open('hello.txt')  \n",
    "text = file.read(15)       # 15글자 읽음 , \\n 도 한글자\n",
    "print(text)\n",
    "file.close()"
   ]
  },
  {
   "cell_type": "markdown",
   "metadata": {},
   "source": [
    "- 파이썬 스타일(with) : 자동 close"
   ]
  },
  {
   "cell_type": "code",
   "execution_count": 5,
   "metadata": {},
   "outputs": [
    {
     "name": "stdout",
     "output_type": "stream",
     "text": [
      "Hello, World\n",
      "안녕하세요?\n",
      "\n"
     ]
    }
   ],
   "source": [
    "with open ('hello.txt') as file:\n",
    "    text = file.read()\n",
    "print(text)"
   ]
  },
  {
   "cell_type": "markdown",
   "metadata": {},
   "source": [
    "### 27.2 문자열 여러줄"
   ]
  },
  {
   "cell_type": "code",
   "execution_count": 6,
   "metadata": {},
   "outputs": [],
   "source": [
    "with open ('hello.txt','w') as file:\n",
    "    for i in range(3):\n",
    "        file.write(f'hello, world! {i}\\n')"
   ]
  },
  {
   "cell_type": "code",
   "execution_count": 7,
   "metadata": {},
   "outputs": [],
   "source": [
    "fruits = ['apple\\n', 'banana\\n', 'cherry\\n']\n",
    "with open('hello.txt', 'w') as file:\n",
    "    file.writelines(fruits)"
   ]
  },
  {
   "cell_type": "markdown",
   "metadata": {},
   "source": [
    "- 줄 단위로 작업할 내용이 있으면 아래와 같이 사용함"
   ]
  },
  {
   "cell_type": "code",
   "execution_count": 8,
   "metadata": {},
   "outputs": [
    {
     "name": "stdout",
     "output_type": "stream",
     "text": [
      "apple\n",
      "banana\n",
      "cherry\n"
     ]
    }
   ],
   "source": [
    "with open('hello.txt', 'r') as file:\n",
    "    lines = file.readlines()\n",
    "for line in lines:\n",
    "    print(line, end='')\n"
   ]
  },
  {
   "cell_type": "markdown",
   "metadata": {},
   "source": [
    "### 경로명 지정, 디렉토리 만들기"
   ]
  },
  {
   "cell_type": "code",
   "execution_count": 9,
   "metadata": {},
   "outputs": [],
   "source": [
    "#data 디렉토리가 있는지 확인, 없으면 만들어주기\n",
    "import os\n",
    "if not os.path.exists('data'):\n",
    "    os.mkdir('data')"
   ]
  },
  {
   "cell_type": "code",
   "execution_count": 10,
   "metadata": {},
   "outputs": [
    {
     "data": {
      "text/plain": [
       "True"
      ]
     },
     "execution_count": 10,
     "metadata": {},
     "output_type": "execute_result"
    }
   ],
   "source": [
    "#상대경로\n",
    "os.path.exists('data')"
   ]
  },
  {
   "cell_type": "code",
   "execution_count": 11,
   "metadata": {},
   "outputs": [
    {
     "name": "stderr",
     "output_type": "stream",
     "text": [
      "'pwd' is not recognized as an internal or external command,\n",
      "operable program or batch file.\n"
     ]
    }
   ],
   "source": [
    "!pwd"
   ]
  },
  {
   "cell_type": "code",
   "execution_count": 12,
   "metadata": {},
   "outputs": [
    {
     "data": {
      "text/plain": [
       "False"
      ]
     },
     "execution_count": 12,
     "metadata": {},
     "output_type": "execute_result"
    }
   ],
   "source": [
    "# 절대 경로\n",
    "os.path.exists('/content/data')"
   ]
  },
  {
   "cell_type": "code",
   "execution_count": 13,
   "metadata": {},
   "outputs": [],
   "source": [
    "data_file = 'data/hello.txt'\n",
    "with open(data_file, 'w') as file:\n",
    "    file.write('Hello, world!\\n')\n",
    "    file.write('안녕하세요?')"
   ]
  },
  {
   "cell_type": "markdown",
   "metadata": {},
   "source": [
    "- append 모드"
   ]
  },
  {
   "cell_type": "code",
   "execution_count": 14,
   "metadata": {},
   "outputs": [],
   "source": [
    "with open('hello.txt', 'a') as file:\n",
    "    file.write('Hello, world!\\n')\n",
    "    file.write('안녕하세요?')"
   ]
  },
  {
   "cell_type": "code",
   "execution_count": 15,
   "metadata": {},
   "outputs": [
    {
     "name": "stdout",
     "output_type": "stream",
     "text": [
      "apple\n",
      "banana\n",
      "cherry\n",
      "Hello, world!\n",
      "안녕하세요?\n"
     ]
    }
   ],
   "source": [
    "with open('hello.txt') as file:\n",
    "    text = file.read()\n",
    "print(text)"
   ]
  },
  {
   "cell_type": "code",
   "execution_count": 16,
   "metadata": {},
   "outputs": [],
   "source": [
    "data_file = 'data/hello.txt'\n",
    "file = open('hello.txt', 'w')  #hello. txt 파일을 쓰기모드(w)로 open\n",
    "file.write('Hello, World\\n')\n",
    "file.write('안녕하세요?\\n')\n",
    "file.close()"
   ]
  },
  {
   "cell_type": "code",
   "execution_count": 17,
   "metadata": {},
   "outputs": [],
   "source": [
    "#인코딩\n",
    "with open('hello.txt', 'w', encoding='CP949') as file:\n",
    "    file.write('이 글은 EUC-KR(CP 949)로 인코딩 되었습니다.\\n')\n",
    "    file.write('utf-8로 읽으면 글자가 깨집니다.')"
   ]
  },
  {
   "cell_type": "markdown",
   "metadata": {},
   "source": [
    "### 27.3 파이썬 객체 저장/로드"
   ]
  },
  {
   "cell_type": "code",
   "execution_count": 18,
   "metadata": {},
   "outputs": [],
   "source": [
    "import pickle\n",
    "\n",
    "person = {'name': 'james', 'age': 17, 'address':'서울시 서초구 반포동'}\n",
    "\n",
    "with open('person.pkl', 'wb')as file:\n",
    "    pickle.dump(person,file)\n",
    "\n",
    "#읽을수 없는 상태"
   ]
  },
  {
   "cell_type": "code",
   "execution_count": 19,
   "metadata": {},
   "outputs": [
    {
     "data": {
      "text/plain": [
       "{'name': 'james', 'age': 17, 'address': '서울시 서초구 반포동'}"
      ]
     },
     "execution_count": 19,
     "metadata": {},
     "output_type": "execute_result"
    }
   ],
   "source": [
    "with open('person.pkl', 'rb')as file:\n",
    "    jamse = pickle.load(file)\n",
    "jamse"
   ]
  },
  {
   "cell_type": "code",
   "execution_count": 20,
   "metadata": {},
   "outputs": [
    {
     "data": {
      "text/plain": [
       "{'name': 'james', 'age': 17, 'address': '서울시 서초구 반포동'}"
      ]
     },
     "execution_count": 20,
     "metadata": {},
     "output_type": "execute_result"
    }
   ],
   "source": [
    "#파일 오픈이 필요 없는 라이브러리도 있음\n",
    "import joblib\n",
    "joblib.dump(person, 'person.jl')\n",
    "james = joblib.load('person.jl')\n",
    "james"
   ]
  },
  {
   "cell_type": "code",
   "execution_count": null,
   "metadata": {},
   "outputs": [],
   "source": []
  }
 ],
 "metadata": {
  "interpreter": {
   "hash": "bbaff3bad43e72ef86a08724e2a04c1dc7b916dad0faa2935f126c230f07c1b0"
  },
  "kernelspec": {
   "display_name": "Python 3.9.7 ('base')",
   "language": "python",
   "name": "python3"
  },
  "language_info": {
   "codemirror_mode": {
    "name": "ipython",
    "version": 3
   },
   "file_extension": ".py",
   "mimetype": "text/x-python",
   "name": "python",
   "nbconvert_exporter": "python",
   "pygments_lexer": "ipython3",
   "version": "3.9.7"
  },
  "orig_nbformat": 4
 },
 "nbformat": 4,
 "nbformat_minor": 2
}
